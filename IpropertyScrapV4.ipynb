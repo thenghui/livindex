{
 "cells": [
  {
   "cell_type": "code",
   "execution_count": 2,
   "metadata": {},
   "outputs": [
    {
     "data": {
      "text/plain": [
       "'1244'"
      ]
     },
     "execution_count": 2,
     "metadata": {},
     "output_type": "execute_result"
    }
   ],
   "source": [
    "import numpy as np\n",
    "import pandas as pd\n",
    "from urllib.request import urlopen\n",
    "from bs4 import BeautifulSoup\n",
    "import requests\n",
    "import csv\n",
    "from datetime import datetime\n",
    "\n",
    "State = \"Selangor\"\n",
    "firsturl = \"https://www.iproperty.com.my/rent/\" + State + \"/all-residential/?page=1\"\n",
    "response = urlopen(firsturl)\n",
    "data = BeautifulSoup(response.read(),'lxml')\n",
    "case_studies = data.find(\"ul\", {\"class\":\"ant-pagination\"})\n",
    "case_stud_details = case_studies.findAll('li')\n",
    "totalpage = case_stud_details[-2].text\n",
    "totalpage"
   ]
  },
  {
   "cell_type": "code",
   "execution_count": 22,
   "metadata": {},
   "outputs": [
    {
     "name": "stdout",
     "output_type": "stream",
     "text": [
      "Writing complete\n"
     ]
    }
   ],
   "source": [
    "#for i in range(1, int(totalpage)+1):\n",
    "for i in range(100, 110):\n",
    "    pageurl = \"https://www.iproperty.com.my/rent/\" + State + \"/all-residential/?page=\" + str(i)\n",
    "    page_response = requests.get(pageurl, timeout=5)\n",
    "    page_content = BeautifulSoup(page_response.content, \"html.parser\")\n",
    "    prop_urls = page_content.select ('.jPjrzv')\n",
    "    \n",
    "    for w in range(0, 20):\n",
    "        try:\n",
    "            prop_url = prop_urls[w].find('a')\n",
    "            prop_url = prop_url[\"href\"]\n",
    "            SourceUrl = \"https://www.iproperty.com.my\" + prop_url\n",
    "\n",
    "            ind_page_response = urlopen(SourceUrl)\n",
    "            data = BeautifulSoup(ind_page_response.read(),'lxml')\n",
    "\n",
    "            prop_names = data.find(\"div\", {\"class\":\"btnpbK\"})\n",
    "            try:\n",
    "                prop_name = prop_names.find('h2')\n",
    "                prop_name = prop_name.text\n",
    "                try:\n",
    "                    PropertyName, City1, *rest1 = prop_name.split(\",\")\n",
    "                except ValueError:\n",
    "                    PropertyName = prop_name\n",
    "                    City1 = prop_name\n",
    "            except AttributeError:\n",
    "                PropertyName = \"N/A\"\n",
    "                City1 = \"N/A\"\n",
    "\n",
    "            prop_adds = data.find(\"div\", {\"class\":\"kQbnwj\"})\n",
    "            try:\n",
    "                prop_add = prop_adds.find('h1')\n",
    "                prop_add = prop_add.text\n",
    "                try:\n",
    "                    PropertyAddress, *rest2 = prop_add.split(\",\", maxsplit=1)\n",
    "                    *rest3, Postcode, State2 = prop_add.rsplit(\",\", maxsplit=2)\n",
    "                except ValueError:\n",
    "                    PropertyAddress = prop_add\n",
    "                    Postcode = \"00000\"\n",
    "                    State2 = State\n",
    "            except AttributeError:\n",
    "                PropertyAddress = \"N/A\"\n",
    "                Postcode = \"00000\"\n",
    "                State2 = State\n",
    "\n",
    "            prop_prices = data.find(\"div\", {\"class\":\"kMZquu\"})\n",
    "            RentalPerMth = prop_prices.text\n",
    "\n",
    "            prop_builds = data.find(\"li\", {\"class\":\"kiWLOD\"})\n",
    "            prop_build = prop_builds.text\n",
    "            BuiltUpSize = prop_build[11:]\n",
    "\n",
    "            prop_types = data.find(\"div\", {\"class\":\"property-attr-propertyType\"})\n",
    "            prop_type = prop_types.text\n",
    "            PropertyType = prop_type[14:]\n",
    "\n",
    "            prop_furnishs = data.find(\"div\", {\"class\":\"property-attr-furnishing\"})\n",
    "            prop_furnish = prop_furnishs.text\n",
    "            Furnishing = prop_furnish[11:] \n",
    "\n",
    "            prop_all_details = data.find(\"ul\", {\"class\":\"dusqfP\"})\n",
    "            try:\n",
    "                prop_details = prop_all_details.findAll(\"li\")\n",
    "                try:\n",
    "                    NoOfBedroom = prop_details[0].text        \n",
    "                except IndexError:\n",
    "                    NoOfBedroom = \"N/A\"\n",
    "\n",
    "                try:\n",
    "                    NoOfBathroom = prop_details[1].text        \n",
    "                except IndexError:\n",
    "                    NoOfBathroom = \"N/A\"\n",
    "\n",
    "                try:\n",
    "                    NoOfParking = prop_details[2].text        \n",
    "                except IndexError:\n",
    "                    NoOfParking = \"N/A\"\n",
    "\n",
    "            except AttributeError:\n",
    "                NoOfBedroom = \"N/A\"\n",
    "                NoOfBathroom = \"N/A\"\n",
    "                NoOfParking = \"N/A\"\n",
    "\n",
    "            prop_post_dates = data.find(\"div\", {\"class\":\"property-attr-updatedAt\"})\n",
    "            prop_post_date = prop_post_dates.text\n",
    "            PostedDate = prop_post_date[12:]\n",
    "\n",
    "            for alldata in  range (1):\n",
    "                with open('iproperty4.csv', 'a', newline='') as csv_file:\n",
    "                    writer = csv.writer(csv_file)\n",
    "                    writer.writerow([PropertyName, PropertyType, PropertyAddress, City1, State, Postcode, \"\", \"\", BuiltUpSize, NoOfBedroom, NoOfBathroom, NoOfParking, Furnishing, RentalPerMth, PostedDate, SourceUrl])\n",
    "        \n",
    "        except IndexError:\n",
    "            continue\n",
    "                    \n",
    "print(\"Writing complete\")"
   ]
  },
  {
   "cell_type": "code",
   "execution_count": null,
   "metadata": {},
   "outputs": [],
   "source": []
  }
 ],
 "metadata": {
  "kernelspec": {
   "display_name": "Python 3",
   "language": "python",
   "name": "python3"
  },
  "language_info": {
   "codemirror_mode": {
    "name": "ipython",
    "version": 3
   },
   "file_extension": ".py",
   "mimetype": "text/x-python",
   "name": "python",
   "nbconvert_exporter": "python",
   "pygments_lexer": "ipython3",
   "version": "3.6.6"
  }
 },
 "nbformat": 4,
 "nbformat_minor": 2
}
